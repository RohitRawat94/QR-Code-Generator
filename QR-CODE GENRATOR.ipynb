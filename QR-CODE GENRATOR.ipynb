{
 "cells": [
  {
   "cell_type": "code",
   "execution_count": null,
   "id": "0443703d",
   "metadata": {},
   "outputs": [],
   "source": [
    "pip install qrcode"
   ]
  },
  {
   "cell_type": "code",
   "execution_count": 7,
   "id": "7165dd04",
   "metadata": {},
   "outputs": [],
   "source": [
    "# Black & White Qr-Code\n",
    "import qrcode as qr\n",
    "img=qr.make(\"https://www.subodhpgcollege.com/\")\n",
    "img.save(\"Sunodh_College_Website.png\")"
   ]
  },
  {
   "cell_type": "code",
   "execution_count": 20,
   "id": "aeb8bf35",
   "metadata": {},
   "outputs": [],
   "source": [
    "#Color Qr-Code\n",
    "import qrcode \n",
    "from PIL import Image\n",
    "\n",
    "qr=qrcode.QRCode(version=1,error_correction=qrcode.constants.ERROR_CORRECT_H,box_size=10,border=8)\n",
    "qr.add_data(\"https://www.subodhpgcollege.com/\")\n",
    "qr.make(fit=True)\n",
    "img=qr.make_image(fill_color=\"red\",back_color=\"green\")\n",
    "img.save(\"college_website.png\")"
   ]
  }
 ],
 "metadata": {
  "kernelspec": {
   "display_name": "Python 3 (ipykernel)",
   "language": "python",
   "name": "python3"
  },
  "language_info": {
   "codemirror_mode": {
    "name": "ipython",
    "version": 3
   },
   "file_extension": ".py",
   "mimetype": "text/x-python",
   "name": "python",
   "nbconvert_exporter": "python",
   "pygments_lexer": "ipython3",
   "version": "3.11.3"
  }
 },
 "nbformat": 4,
 "nbformat_minor": 5
}
